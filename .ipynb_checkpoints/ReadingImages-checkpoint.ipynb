{
 "cells": [
  {
   "cell_type": "code",
   "execution_count": 1,
   "id": "dd5ad0db",
   "metadata": {},
   "outputs": [],
   "source": [
    "# is used to import open cv packages\n",
    "import cv2 as cv"
   ]
  },
  {
   "cell_type": "code",
   "execution_count": 2,
   "id": "e8f096d8",
   "metadata": {},
   "outputs": [],
   "source": [
    "img = cv.imread('photos/cat.jpg')\n",
    "cv.imshow('CAT',img)"
   ]
  },
  {
   "cell_type": "code",
   "execution_count": null,
   "id": "26b8870a",
   "metadata": {},
   "outputs": [],
   "source": []
  }
 ],
 "metadata": {
  "kernelspec": {
   "display_name": "Python 3 (ipykernel)",
   "language": "python",
   "name": "python3"
  },
  "language_info": {
   "codemirror_mode": {
    "name": "ipython",
    "version": 3
   },
   "file_extension": ".py",
   "mimetype": "text/x-python",
   "name": "python",
   "nbconvert_exporter": "python",
   "pygments_lexer": "ipython3",
   "version": "3.7.0"
  }
 },
 "nbformat": 4,
 "nbformat_minor": 5
}
